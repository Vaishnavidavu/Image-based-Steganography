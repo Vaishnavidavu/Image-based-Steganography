{
 "cells": [
  {
   "cell_type": "code",
   "execution_count": 1,
   "id": "b5ed48ba-893c-452b-9fed-ebd7b3f71951",
   "metadata": {},
   "outputs": [
    {
     "name": "stdout",
     "output_type": "stream",
     "text": [
      "The dimensions of the chosen image are:\n",
      "1024 683\n"
     ]
    },
    {
     "name": "stdin",
     "output_type": "stream",
     "text": [
      "\n",
      "Enter key to edit (Security Key):  123\n",
      "Enter text to hide:  qwerty\n"
     ]
    },
    {
     "name": "stdout",
     "output_type": "stream",
     "text": [
      "Encrypted image saved as 'encrypted_img.jpg'.\n",
      "Data hiding in image completed successfully!\n"
     ]
    },
    {
     "name": "stdin",
     "output_type": "stream",
     "text": [
      "\n",
      "Enter 'extract' to extract data from the image, or 'exit' to quit:  extract\n",
      "\n",
      "Re-enter key to extract text:  12\n"
     ]
    },
    {
     "name": "stdout",
     "output_type": "stream",
     "text": [
      "Keys do not match. Unable to extract text.\n"
     ]
    },
    {
     "name": "stdin",
     "output_type": "stream",
     "text": [
      "\n",
      "Enter key to edit (Security Key):  12\n",
      "Enter text to hide:  this is simple image stegano method\n"
     ]
    },
    {
     "name": "stdout",
     "output_type": "stream",
     "text": [
      "Encrypted image saved as 'encrypted_img.jpg'.\n",
      "Data hiding in image completed successfully!\n"
     ]
    },
    {
     "name": "stdin",
     "output_type": "stream",
     "text": [
      "\n",
      "Enter 'extract' to extract data from the image, or 'exit' to quit:  extract\n",
      "\n",
      "Re-enter key to extract text:  12\n"
     ]
    },
    {
     "name": "stdout",
     "output_type": "stream",
     "text": [
      "Decrypted text: this is simple image stegano method\n",
      "---------------------------------------\n"
     ]
    },
    {
     "name": "stdin",
     "output_type": "stream",
     "text": [
      "Enter 'continue' to start again or 'exit' to quit:  exit\n"
     ]
    },
    {
     "name": "stdout",
     "output_type": "stream",
     "text": [
      "Exited !!!\n"
     ]
    }
   ],
   "source": [
    "import cv2\n",
    "import string\n",
    "import os\n",
    "\n",
    "#  dictionaries for character to integer (ascii) mapping for d and int to char - c\n",
    "d = {chr(i): i for i in range(255)}\n",
    "c = {i: chr(i) for i in range(255)}\n",
    "\n",
    "# Loads the image using imread\n",
    "x = cv2.imread(\"E:\\\\Aloo-Samosa-1.jpg\")\n",
    "print(\"The dimensions of the chosen image are:\")\n",
    "# Get image dimensions height, width \n",
    "i = x.shape[0]\n",
    "j = x.shape[1]\n",
    "print(i, j)\n",
    "\n",
    "while True:\n",
    "    # User input for the security key and text to hide\n",
    "    key = input(\"\\nEnter key to edit (Security Key): \")\n",
    "    text = input(\"Enter text to hide: \")\n",
    "\n",
    "    kl = 0  # Key length\n",
    "    tln = len(text)\n",
    "\n",
    "    z = 0  # Decides plane [usually iterates for r, g, b channels]\n",
    "    n = 0  # Number of row\n",
    "    m = 0  # Number of column\n",
    "\n",
    "    # Hide the text in the image\n",
    "    for i in range(len(text)):\n",
    "        x[n, m, z] = d[text[i]] ^ d[key[kl]]  # XOR operation allows to hide info without showing impact on image visuals \n",
    "        n += 1\n",
    "        if n >= x.shape[0]:\n",
    "            n = 0\n",
    "            m += 1\n",
    "            if m >= x.shape[1]:\n",
    "                m = 0\n",
    "                z += 1\n",
    "                if z >= 3:  # r, g, b\n",
    "                    z = 0\n",
    "        kl = (kl + 1) % len(key)  # Iterates over image to hide text\n",
    "\n",
    "    # Save the encrypted image\n",
    "    cv2.imwrite(\"encrypted_img.jpg\", x)\n",
    "    print(\"Encrypted image saved as 'encrypted_img.jpg'.\")\n",
    "\n",
    "    # Open the encrypted image\n",
    "    os.startfile(\"encrypted_img.jpg\")\n",
    "\n",
    "    print(\"Data hiding in image completed successfully!\")\n",
    "\n",
    "    # Function to extract hidden text from the image\n",
    "    def extract_text():\n",
    "        kl = 0\n",
    "        decrypt = \"\"\n",
    "        z = 0  # Decides plane\n",
    "        n = 0  # Number of row\n",
    "        m = 0  # Number of column\n",
    "\n",
    "        for i in range(tln):\n",
    "            decrypt += c[x[n, m, z] ^ d[key[kl]]]\n",
    "            n += 1\n",
    "            if n >= x.shape[0]:\n",
    "                n = 0\n",
    "                m += 1\n",
    "                if m >= x.shape[1]:\n",
    "                    m = 0\n",
    "                    z += 1\n",
    "                    if z >= 3:\n",
    "                        z = 0\n",
    "            kl = (kl + 1) % len(key)  # Iterates over image to hide text\n",
    "        return decrypt\n",
    "\n",
    "    # Get user choice to extract data or exit\n",
    "    choice = input(\"\\nEnter 'extract' to extract data from the image, or 'exit' to quit: \")\n",
    "\n",
    "    if choice.lower() == \"extract\":\n",
    "        key1 = input(\"\\nRe-enter key to extract text: \")\n",
    "        if key == key1:\n",
    "            decrypted_text = extract_text()\n",
    "            print(\"Decrypted text:\", decrypted_text)\n",
    "            print(\"---------------------------------------\")\n",
    "            \n",
    "            #  option to continue or exit\n",
    "            cont_choice = input(\"Enter 'continue' to start again or 'exit' to quit: \")\n",
    "            if cont_choice.lower() == \"exit\":\n",
    "                print(\"Exited !!!\")\n",
    "                break\n",
    "        else:\n",
    "            print(\"Keys do not match. Unable to extract text.\")\n",
    "    elif choice.lower() == \"exit\":\n",
    "        print(\"Exited !!!\")\n",
    "        break\n",
    "    else:\n",
    "        print(\"Invalid choice. Please enter 'extract' or 'exit'.\")\n",
    "\n"
   ]
  },
  {
   "cell_type": "code",
   "execution_count": null,
   "id": "d04d11eb-169d-41d8-9894-340ad2c071e8",
   "metadata": {},
   "outputs": [],
   "source": []
  }
 ],
 "metadata": {
  "kernelspec": {
   "display_name": "Python 3 (ipykernel)",
   "language": "python",
   "name": "python3"
  },
  "language_info": {
   "codemirror_mode": {
    "name": "ipython",
    "version": 3
   },
   "file_extension": ".py",
   "mimetype": "text/x-python",
   "name": "python",
   "nbconvert_exporter": "python",
   "pygments_lexer": "ipython3",
   "version": "3.12.4"
  }
 },
 "nbformat": 4,
 "nbformat_minor": 5
}
